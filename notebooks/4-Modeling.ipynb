{
 "cells": [
  {
   "cell_type": "code",
   "execution_count": 1,
   "id": "554307e6",
   "metadata": {},
   "outputs": [],
   "source": [
    "import pandas as pd\n",
    "import numpy as np\n",
    "import matplotlib.pyplot as plt\n",
    "from sklearn.linear_model import LogisticRegression\n",
    "from sklearn.metrics import classification_report, accuracy_score, recall_score, roc_curve, auc, roc_auc_score, confusion_matrix, ConfusionMatrixDisplay\n",
    "from sklearn.ensemble import RandomForestClassifier\n",
    "from sklearn.svm import SVC\n",
    "from sklearn.model_selection import GridSearchCV"
   ]
  },
  {
   "cell_type": "code",
   "execution_count": 2,
   "id": "3d0da22d",
   "metadata": {},
   "outputs": [],
   "source": [
    "X_train = pd.read_csv('../data/X_train.csv', index_col=0)\n",
    "y_train = np.ravel(pd.read_csv('../data/y_train.csv', index_col=0))\n",
    "X_test = pd.read_csv('../data/X_test.csv', index_col=0)\n",
    "y_test = np.ravel(pd.read_csv('../data/y_test.csv', index_col=0))"
   ]
  },
  {
   "cell_type": "code",
   "execution_count": 3,
   "id": "514d1259",
   "metadata": {},
   "outputs": [
    {
     "name": "stdout",
     "output_type": "stream",
     "text": [
      "              precision    recall  f1-score   support\n",
      "\n",
      "           0       0.85      0.90      0.87      3635\n",
      "           1       0.66      0.56      0.61      1295\n",
      "\n",
      "    accuracy                           0.81      4930\n",
      "   macro avg       0.76      0.73      0.74      4930\n",
      "weighted avg       0.80      0.81      0.80      4930\n",
      "\n"
     ]
    }
   ],
   "source": [
    "lr = LogisticRegression(random_state=17)\n",
    "lr.fit(X_train, y_train)\n",
    "y_train_pred = lr.predict(X_train)\n",
    "print(classification_report(y_train,y_train_pred))"
   ]
  },
  {
   "cell_type": "code",
   "execution_count": 4,
   "id": "d006559a",
   "metadata": {},
   "outputs": [
    {
     "name": "stdout",
     "output_type": "stream",
     "text": [
      "              precision    recall  f1-score   support\n",
      "\n",
      "           0       0.83      0.90      0.86      1539\n",
      "           1       0.65      0.51      0.57       574\n",
      "\n",
      "    accuracy                           0.79      2113\n",
      "   macro avg       0.74      0.70      0.72      2113\n",
      "weighted avg       0.78      0.79      0.78      2113\n",
      "\n"
     ]
    }
   ],
   "source": [
    "y_test_pred = lr.predict(X_test)\n",
    "print(classification_report(y_test, y_test_pred))"
   ]
  },
  {
   "cell_type": "code",
   "execution_count": 5,
   "id": "0cbd9ab8",
   "metadata": {},
   "outputs": [
    {
     "name": "stdout",
     "output_type": "stream",
     "text": [
      "              precision    recall  f1-score   support\n",
      "\n",
      "           0       1.00      1.00      1.00      3635\n",
      "           1       1.00      1.00      1.00      1295\n",
      "\n",
      "    accuracy                           1.00      4930\n",
      "   macro avg       1.00      1.00      1.00      4930\n",
      "weighted avg       1.00      1.00      1.00      4930\n",
      "\n"
     ]
    }
   ],
   "source": [
    "rfc = RandomForestClassifier(random_state=17)\n",
    "rfc.fit(X_train, y_train)\n",
    "y_train_pred = rfc.predict(X_train)\n",
    "print(classification_report(y_train, y_train_pred))"
   ]
  },
  {
   "cell_type": "code",
   "execution_count": 6,
   "id": "abf869f4",
   "metadata": {},
   "outputs": [
    {
     "name": "stdout",
     "output_type": "stream",
     "text": [
      "              precision    recall  f1-score   support\n",
      "\n",
      "           0       0.81      0.90      0.85      1539\n",
      "           1       0.62      0.44      0.52       574\n",
      "\n",
      "    accuracy                           0.77      2113\n",
      "   macro avg       0.71      0.67      0.68      2113\n",
      "weighted avg       0.76      0.77      0.76      2113\n",
      "\n"
     ]
    }
   ],
   "source": [
    "y_test_pred = rfc.predict(X_test)\n",
    "print(classification_report(y_test, y_test_pred))"
   ]
  },
  {
   "cell_type": "code",
   "execution_count": 7,
   "id": "dd62073d",
   "metadata": {},
   "outputs": [
    {
     "name": "stdout",
     "output_type": "stream",
     "text": [
      "              precision    recall  f1-score   support\n",
      "\n",
      "           0       0.84      0.93      0.88      3635\n",
      "           1       0.71      0.52      0.60      1295\n",
      "\n",
      "    accuracy                           0.82      4930\n",
      "   macro avg       0.78      0.72      0.74      4930\n",
      "weighted avg       0.81      0.82      0.81      4930\n",
      "\n"
     ]
    }
   ],
   "source": [
    "svc = SVC(random_state=17)\n",
    "svc.fit(X_train, y_train)\n",
    "y_train_pred = svc.predict(X_train)\n",
    "print(classification_report(y_train, y_train_pred))"
   ]
  },
  {
   "cell_type": "code",
   "execution_count": 8,
   "id": "baac4ba5",
   "metadata": {},
   "outputs": [
    {
     "name": "stdout",
     "output_type": "stream",
     "text": [
      "              precision    recall  f1-score   support\n",
      "\n",
      "           0       0.81      0.91      0.86      1539\n",
      "           1       0.65      0.44      0.53       574\n",
      "\n",
      "    accuracy                           0.78      2113\n",
      "   macro avg       0.73      0.68      0.69      2113\n",
      "weighted avg       0.77      0.78      0.77      2113\n",
      "\n"
     ]
    }
   ],
   "source": [
    "y_test_pred = svc.predict(X_test)\n",
    "print(classification_report(y_test, y_test_pred))"
   ]
  },
  {
   "cell_type": "markdown",
   "id": "b555d178",
   "metadata": {},
   "source": [
    "## Parameter tuning the most promising default model\n",
    "\n",
    "Judging from the performance of each type of model with default hyperparameters, the logistic regression classifier actually performed best in both recall (our chosen key metric) and overall accuracy. Let's take a pass at hyperparameter tuning.\n",
    "\n",
    "Scikit-learn's `LogisticRegression` classifier accepts several parameter arguments. Two of the important parameters we'll focus on are the solver and the penalty term. Per the scikit-learn documentation, not all solvers work with all penalties. As such, we cannot execute one grid search for all combinations. We will perform a series of smaller grid searches, one for each solver, then compare the performance of the resulting best parameter combination from each. From the [documentation](https://scikit-learn.org/stable/modules/generated/sklearn.linear_model.LogisticRegression.html):\n",
    "\n",
    ">The choice of the algorithm depends on the penalty chosen: Supported penalties by solver:\n",
    ">   * ‘newton-cg’ - [‘l2’, ‘none’]\n",
    ">   * ‘lbfgs’ - [‘l2’, ‘none’]\n",
    ">   * ‘liblinear’ - [‘l1’, ‘l2’]\n",
    ">   * ‘sag’ - [‘l2’, ‘none’]\n",
    ">   * ‘saga’ - [‘elasticnet’, ‘l1’, ‘l2’, ‘none’]\n",
    "\n",
    "Using no penalty (i.e., `penalty = 'none'`) ignores the C parameter, so I will omit that value from all of my grids for the sake of simplicity. Follow-up work on this project could be to come back and explore using no penalty.\n",
    "\n",
    "I could not reach convergence with the elasticnet solver with up to 500 max iterations, despite having rescaled my data, so I've omitted that solver entirely.\n",
    "\n",
    "_I referred to [this blog post](https://machinelearningmastery.com/hyperparameters-for-classification-machine-learning-algorithms/) for additional guidance here._"
   ]
  },
  {
   "cell_type": "code",
   "execution_count": 9,
   "id": "032b24e7",
   "metadata": {},
   "outputs": [
    {
     "data": {
      "text/plain": [
       "{'C': 0.1, 'penalty': 'l2', 'random_state': 42, 'solver': 'newton-cg'}"
      ]
     },
     "execution_count": 9,
     "metadata": {},
     "output_type": "execute_result"
    }
   ],
   "source": [
    "param_grid_newton = {\n",
    "    'solver':['newton-cg'],\n",
    "    'penalty':['l2'],\n",
    "    'C':[100,10,1.0,0.1,0.01],\n",
    "    'random_state':[42]\n",
    "}\n",
    "\n",
    "lr_grid_newton = GridSearchCV(estimator=LogisticRegression(), param_grid=param_grid_newton)\n",
    "lr_grid_newton.fit(X_train, y_train)\n",
    "lr_grid_newton.best_params_"
   ]
  },
  {
   "cell_type": "code",
   "execution_count": 10,
   "id": "54bf80f6",
   "metadata": {},
   "outputs": [
    {
     "data": {
      "text/plain": [
       "{'C': 0.1, 'penalty': 'l2', 'random_state': 42, 'solver': 'lbfgs'}"
      ]
     },
     "execution_count": 10,
     "metadata": {},
     "output_type": "execute_result"
    }
   ],
   "source": [
    "param_grid_lbfgs = {\n",
    "    'solver':['lbfgs'],\n",
    "    'penalty':['l2'],\n",
    "    'C':[100,10,1.0,0.1,0.01],\n",
    "    'random_state':[42]\n",
    "}\n",
    "\n",
    "lr_grid_lbfgs = GridSearchCV(estimator=LogisticRegression(), param_grid=param_grid_lbfgs)\n",
    "lr_grid_lbfgs.fit(X_train, y_train)\n",
    "lr_grid_lbfgs.best_params_"
   ]
  },
  {
   "cell_type": "code",
   "execution_count": 11,
   "id": "47142c4d",
   "metadata": {},
   "outputs": [
    {
     "data": {
      "text/plain": [
       "{'C': 0.1, 'penalty': 'l2', 'random_state': 42, 'solver': 'liblinear'}"
      ]
     },
     "execution_count": 11,
     "metadata": {},
     "output_type": "execute_result"
    }
   ],
   "source": [
    "param_grid_liblinear = {\n",
    "    'solver':['liblinear'],\n",
    "    'penalty':['l1','l2'],\n",
    "    'C':[100,10,1.0,0.1,0.01],\n",
    "    'random_state':[42]\n",
    "}\n",
    "\n",
    "lr_grid_liblinear = GridSearchCV(estimator=LogisticRegression(), param_grid=param_grid_liblinear)\n",
    "lr_grid_liblinear.fit(X_train, y_train)\n",
    "lr_grid_liblinear.best_params_"
   ]
  },
  {
   "cell_type": "code",
   "execution_count": 12,
   "id": "e25f3709",
   "metadata": {},
   "outputs": [
    {
     "data": {
      "text/plain": [
       "{'C': 0.1,\n",
       " 'max_iter': 500,\n",
       " 'penalty': 'l2',\n",
       " 'random_state': 42,\n",
       " 'solver': 'sag'}"
      ]
     },
     "execution_count": 12,
     "metadata": {},
     "output_type": "execute_result"
    }
   ],
   "source": [
    "param_grid_sag = {\n",
    "    'solver':['sag'],\n",
    "    'penalty':['l2'],\n",
    "    'C':[100,10,1.0,0.1,0.01],\n",
    "    'random_state':[42],\n",
    "    'max_iter':[500]\n",
    "}\n",
    "\n",
    "lr_grid_sag = GridSearchCV(estimator=LogisticRegression(), param_grid=param_grid_sag)\n",
    "lr_grid_sag.fit(X_train, y_train)\n",
    "lr_grid_sag.best_params_"
   ]
  },
  {
   "cell_type": "markdown",
   "id": "3f252d91",
   "metadata": {},
   "source": [
    "We can see that across all four solvers, the best penalty term was l2 and the best C term was 0.1. Let's run our four best models, record accuracy and recall scores, and compare."
   ]
  },
  {
   "cell_type": "code",
   "execution_count": 13,
   "id": "0bf92f15",
   "metadata": {},
   "outputs": [],
   "source": [
    "accuracy_train = []\n",
    "accuracy_test = []\n",
    "recall_train = []\n",
    "recall_test = []\n",
    "\n",
    "# newton solver\n",
    "y_train_pred = lr_grid_newton.predict(X_train)\n",
    "accuracy_train.append(accuracy_score(y_train, y_train_pred))\n",
    "recall_train.append(recall_score(y_train,y_train_pred))\n",
    "\n",
    "y_test_pred = lr_grid_newton.predict(X_test)\n",
    "accuracy_test.append(accuracy_score(y_test, y_test_pred))\n",
    "recall_test.append(recall_score(y_test,y_test_pred))\n",
    "\n",
    "# lbfgs solver\n",
    "y_train_pred = lr_grid_lbfgs.predict(X_train)\n",
    "accuracy_train.append(accuracy_score(y_train, y_train_pred))\n",
    "recall_train.append(recall_score(y_train,y_train_pred))\n",
    "\n",
    "y_test_pred = lr_grid_lbfgs.predict(X_test)\n",
    "accuracy_test.append(accuracy_score(y_test, y_test_pred))\n",
    "recall_test.append(recall_score(y_test,y_test_pred))\n",
    "\n",
    "# liblinear solver\n",
    "y_train_pred = lr_grid_liblinear.predict(X_train)\n",
    "accuracy_train.append(accuracy_score(y_train, y_train_pred))\n",
    "recall_train.append(recall_score(y_train,y_train_pred))\n",
    "\n",
    "y_test_pred = lr_grid_liblinear.predict(X_test)\n",
    "accuracy_test.append(accuracy_score(y_test, y_test_pred))\n",
    "recall_test.append(recall_score(y_test,y_test_pred))\n",
    "\n",
    "# sag solver\n",
    "y_train_pred = lr_grid_sag.predict(X_train)\n",
    "accuracy_train.append(accuracy_score(y_train, y_train_pred))\n",
    "recall_train.append(recall_score(y_train,y_train_pred))\n",
    "\n",
    "y_test_pred = lr_grid_sag.predict(X_test)\n",
    "accuracy_test.append(accuracy_score(y_test, y_test_pred))\n",
    "recall_test.append(recall_score(y_test,y_test_pred))"
   ]
  },
  {
   "cell_type": "code",
   "execution_count": 14,
   "id": "bb9d5cdb",
   "metadata": {},
   "outputs": [
    {
     "data": {
      "text/html": [
       "<div>\n",
       "<style scoped>\n",
       "    .dataframe tbody tr th:only-of-type {\n",
       "        vertical-align: middle;\n",
       "    }\n",
       "\n",
       "    .dataframe tbody tr th {\n",
       "        vertical-align: top;\n",
       "    }\n",
       "\n",
       "    .dataframe thead th {\n",
       "        text-align: right;\n",
       "    }\n",
       "</style>\n",
       "<table border=\"1\" class=\"dataframe\">\n",
       "  <thead>\n",
       "    <tr style=\"text-align: right;\">\n",
       "      <th></th>\n",
       "      <th>accuracy_train</th>\n",
       "      <th>accuracy_test</th>\n",
       "      <th>recall_train</th>\n",
       "      <th>recall_test</th>\n",
       "    </tr>\n",
       "  </thead>\n",
       "  <tbody>\n",
       "    <tr>\n",
       "      <th>newton</th>\n",
       "      <td>0.809736</td>\n",
       "      <td>0.790819</td>\n",
       "      <td>0.553668</td>\n",
       "      <td>0.494774</td>\n",
       "    </tr>\n",
       "    <tr>\n",
       "      <th>lbfgs</th>\n",
       "      <td>0.809736</td>\n",
       "      <td>0.790819</td>\n",
       "      <td>0.553668</td>\n",
       "      <td>0.494774</td>\n",
       "    </tr>\n",
       "    <tr>\n",
       "      <th>liblinear</th>\n",
       "      <td>0.809331</td>\n",
       "      <td>0.789872</td>\n",
       "      <td>0.552124</td>\n",
       "      <td>0.494774</td>\n",
       "    </tr>\n",
       "    <tr>\n",
       "      <th>sag</th>\n",
       "      <td>0.809736</td>\n",
       "      <td>0.790819</td>\n",
       "      <td>0.553668</td>\n",
       "      <td>0.494774</td>\n",
       "    </tr>\n",
       "  </tbody>\n",
       "</table>\n",
       "</div>"
      ],
      "text/plain": [
       "           accuracy_train  accuracy_test  recall_train  recall_test\n",
       "newton           0.809736       0.790819      0.553668     0.494774\n",
       "lbfgs            0.809736       0.790819      0.553668     0.494774\n",
       "liblinear        0.809331       0.789872      0.552124     0.494774\n",
       "sag              0.809736       0.790819      0.553668     0.494774"
      ]
     },
     "execution_count": 14,
     "metadata": {},
     "output_type": "execute_result"
    }
   ],
   "source": [
    "lr_metrics_by_solver = pd.DataFrame(list(zip(accuracy_train, accuracy_test, recall_train, recall_test)),\n",
    "                                    columns=['accuracy_train','accuracy_test','recall_train','recall_test'],\n",
    "                                    index=['newton','lbfgs','liblinear','sag']\n",
    "                                   )\n",
    "\n",
    "lr_metrics_by_solver"
   ]
  },
  {
   "cell_type": "markdown",
   "id": "b3e3eb6c",
   "metadata": {},
   "source": [
    "Well, this was a useful learning exercise insofar as we learned that using different solvers with identical penalty and C terms produces identical model performance, with the exception of the liblinear solver, which produced ever-so-slightly worse results than the others.\n",
    "\n",
    "It's also notable that these results overall are slightly worse than the default LogisticRegression results found at the very start! A good sign that I probably need to do a more in-depth round of parameter tuning, and/or further processing of my data. For now, though, we can move forward with the default LR model.\n",
    "\n",
    "## Model evaluation"
   ]
  },
  {
   "cell_type": "code",
   "execution_count": 16,
   "id": "c083e8ce",
   "metadata": {},
   "outputs": [
    {
     "data": {
      "image/png": "[encoded data removed]",
      "text/plain": [
       "<Figure size 432x288 with 2 Axes>"
      ]
     },
     "metadata": {
      "needs_background": "light"
     },
     "output_type": "display_data"
    }
   ],
   "source": [
    "lr = LogisticRegression(random_state=17)\n",
    "lr.fit(X_train, y_train)\n",
    "y_pred = lr.predict(X_test)\n",
    "\n",
    "ConfusionMatrixDisplay(confusion_matrix(y_test,y_pred)).plot()\n",
    "plt.title('Test confusion matrix: Logistic regression')\n",
    "plt.savefig('../images/ConfusionMatrix.png',bbox_inches='tight',facecolor='white')\n",
    "plt.show()"
   ]
  },
  {
   "cell_type": "code",
   "execution_count": 17,
   "id": "1eae9a43",
   "metadata": {},
   "outputs": [
    {
     "data": {
      "text/plain": [
       "0.792238523426408"
      ]
     },
     "execution_count": 17,
     "metadata": {},
     "output_type": "execute_result"
    }
   ],
   "source": [
    "accuracy_score(y_test, y_pred)"
   ]
  },
  {
   "cell_type": "code",
   "execution_count": 18,
   "id": "6379424d",
   "metadata": {},
   "outputs": [
    {
     "data": {
      "text/plain": [
       "0.5139372822299652"
      ]
     },
     "execution_count": 18,
     "metadata": {},
     "output_type": "execute_result"
    }
   ],
   "source": [
    "recall_score(y_test, y_pred)"
   ]
  },
  {
   "cell_type": "code",
   "execution_count": 19,
   "id": "c8d6fc74",
   "metadata": {},
   "outputs": [
    {
     "data": {
      "text/plain": [
       "0.8321843452352653"
      ]
     },
     "execution_count": 19,
     "metadata": {},
     "output_type": "execute_result"
    }
   ],
   "source": [
    "roc_auc_score(y_test, lr.predict_proba(X_test)[:,1])"
   ]
  },
  {
   "cell_type": "markdown",
   "id": "d1dacb83",
   "metadata": {},
   "source": [
    "In this particular test split, we had 574 churned customers, only 295 of which were correctly identified as churned, leaving 279 false negatives. With a recall score of just 0.5139, we are not doing a terribly great job minimizing our false negatives, even though we have what would appear to be a modestly good accuracy at 0.7922. Still, if using this model, we would be able to correctly intervene in the cases of just over half of the right customers, using a fraction of the resources required to intervene with _all_ customers, which would be the only way to guarantee 100% coverage."
   ]
  },
  {
   "cell_type": "code",
   "execution_count": null,
   "id": "43d8c752",
   "metadata": {},
   "outputs": [],
   "source": []
  }
 ],
 "metadata": {
  "kernelspec": {
   "display_name": "Python 3 (ipykernel)",
   "language": "python",
   "name": "python3"
  },
  "language_info": {
   "codemirror_mode": {
    "name": "ipython",
    "version": 3
   },
   "file_extension": ".py",
   "mimetype": "text/x-python",
   "name": "python",
   "nbconvert_exporter": "python",
   "pygments_lexer": "ipython3",
   "version": "3.9.7"
  }
 },
 "nbformat": 4,
 "nbformat_minor": 5
}
